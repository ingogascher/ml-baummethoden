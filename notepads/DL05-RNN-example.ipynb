{
 "cells": [
  {
   "cell_type": "markdown",
   "metadata": {},
   "source": [
    "# RNN Examplecode"
   ]
  },
  {
   "cell_type": "code",
   "execution_count": 101,
   "metadata": {},
   "outputs": [],
   "source": [
    "import torch\n",
    "from torch import nn\n",
    "import numpy as np\n"
   ]
  },
  {
   "cell_type": "code",
   "execution_count": 102,
   "metadata": {},
   "outputs": [
    {
     "data": {
      "text/plain": [
       "{'h': 0,\n",
       " 'e': 1,\n",
       " 'g': 2,\n",
       " ',': 3,\n",
       " 'w': 4,\n",
       " 'y': 5,\n",
       " 'd': 6,\n",
       " 'r': 7,\n",
       " 'u': 8,\n",
       " 'i': 9,\n",
       " 'a': 10,\n",
       " 'c': 11,\n",
       " 'f': 12,\n",
       " 'n': 13,\n",
       " ' ': 14,\n",
       " 'o': 15,\n",
       " 'm': 16,\n",
       " 'v': 17}"
      ]
     },
     "execution_count": 102,
     "metadata": {},
     "output_type": "execute_result"
    }
   ],
   "source": [
    "texts_list = ['hey how are you','good, i am fine','have a nice day']\n",
    "\n",
    "# Join all the sentences together and extract the unique characters from the combined sentences.\n",
    "chars = set(''.join(texts_list))\n",
    "\n",
    "# Creating a dictionary that maps integers to the characters.\n",
    "int2char = dict(enumerate(chars))\n",
    "\n",
    "# Creating another dictionary that maps characters to integers.\n",
    "char2int = {char: ind for ind, char in int2char.items()}\n",
    "\n",
    "char2int\n"
   ]
  },
  {
   "cell_type": "code",
   "execution_count": 103,
   "metadata": {},
   "outputs": [
    {
     "name": "stdout",
     "output_type": "stream",
     "text": [
      "Longest string: 15 characters\n"
     ]
    }
   ],
   "source": [
    "maxlen = len(max(texts_list, key=len))\n",
    "print(f\"Longest string: {maxlen} characters\")"
   ]
  },
  {
   "cell_type": "markdown",
   "metadata": {},
   "source": [
    "# Padding\n",
    "Feeding training data in batches to speed up the training process, so need to ensure that each input sequence has equal size."
   ]
  },
  {
   "cell_type": "code",
   "execution_count": 104,
   "metadata": {},
   "outputs": [],
   "source": [
    "# Add whitespaces to sequences until the length matches the longest sentence.\n",
    "for i in range(len(texts_list)):\n",
    "    while len(texts_list[i])<maxlen:\n",
    "        texts_list[i] += ' '"
   ]
  },
  {
   "cell_type": "markdown",
   "metadata": {},
   "source": [
    "Make target is one time-step ahead of the Input data:"
   ]
  },
  {
   "cell_type": "code",
   "execution_count": 105,
   "metadata": {},
   "outputs": [
    {
     "name": "stdout",
     "output_type": "stream",
     "text": [
      "Input Sequence: hey how are yo\n",
      "Target Sequence: ey how are you\n",
      "Input Sequence: good, i am fin\n",
      "Target Sequence: ood, i am fine\n",
      "Input Sequence: have a nice da\n",
      "Target Sequence: ave a nice day\n"
     ]
    }
   ],
   "source": [
    "# Lists that will hold our input and target sequences.\n",
    "input_seq = []\n",
    "target_seq = []\n",
    "\n",
    "for i in range(len(texts_list)):\n",
    "    # Remove last character for input sequence.\n",
    "    input_seq.append(texts_list[i][:-1])\n",
    "    \n",
    "    # Remove firsts character for target sequence\n",
    "    target_seq.append(texts_list[i][1:])\n",
    "    print(\"Input Sequence: {}\\nTarget Sequence: {}\".format(input_seq[i], target_seq[i]))"
   ]
  },
  {
   "cell_type": "markdown",
   "metadata": {},
   "source": [
    "Convert our input and target sequences to integers instead of characters for one-hot-encoding:"
   ]
  },
  {
   "cell_type": "code",
   "execution_count": 106,
   "metadata": {},
   "outputs": [
    {
     "name": "stdout",
     "output_type": "stream",
     "text": [
      "['hey how are yo', 'good, i am fin', 'have a nice da']\n",
      "['ey how are you', 'ood, i am fine', 'ave a nice day']\n",
      "[[0, 1, 5, 14, 0, 15, 4, 14, 10, 7, 1, 14, 5, 15], [2, 15, 15, 6, 3, 14, 9, 14, 10, 16, 14, 12, 9, 13], [0, 10, 17, 1, 14, 10, 14, 13, 9, 11, 1, 14, 6, 10]]\n",
      "[[1, 5, 14, 0, 15, 4, 14, 10, 7, 1, 14, 5, 15, 8], [15, 15, 6, 3, 14, 9, 14, 10, 16, 14, 12, 9, 13, 1], [10, 17, 1, 14, 10, 14, 13, 9, 11, 1, 14, 6, 10, 5]]\n"
     ]
    }
   ],
   "source": [
    "print(input_seq)\n",
    "print(target_seq)\n",
    "\n",
    "for i in range(len(texts_list)):\n",
    "    input_seq[i] = [char2int[character] for character in input_seq[i]]\n",
    "    target_seq[i] = [char2int[character] for character in target_seq[i]]\n",
    "\n",
    "print(input_seq)\n",
    "print(target_seq)"
   ]
  },
  {
   "cell_type": "code",
   "execution_count": 107,
   "metadata": {},
   "outputs": [],
   "source": [
    "# Number of unique characters our texts.\n",
    "dict_size = len(char2int)\n",
    "# Length of the sequences feeded into the model.\n",
    "seq_len = maxlen - 1\n",
    "# Number of sentences to feed into the model as a batch.\n",
    "batch_size = len(texts_list)\n",
    "\n",
    "def one_hot_encode(sequence, dict_size, seq_len, batch_size):\n",
    "    # Creating a multi-dimensional array of zeros with the desired output shape\n",
    "    features = np.zeros((batch_size, seq_len, dict_size), dtype=np.float32)\n",
    "    \n",
    "    # Replacing the 0 at the relevant character index with a 1 to represent that character\n",
    "    for i in range(batch_size):\n",
    "        for u in range(seq_len):\n",
    "            features[i, u, sequence[i][u]] = 1\n",
    "    return features"
   ]
  },
  {
   "cell_type": "code",
   "execution_count": 108,
   "metadata": {},
   "outputs": [
    {
     "name": "stdout",
     "output_type": "stream",
     "text": [
      "(3, 14, 18) (Batch Size, Sequence Length, One-Hot Encoding Size)\n",
      "One encoded sequence example:\n",
      "[[1. 0. 0. 0. 0. 0. 0. 0. 0. 0. 0. 0. 0. 0. 0. 0. 0. 0.]\n",
      " [0. 1. 0. 0. 0. 0. 0. 0. 0. 0. 0. 0. 0. 0. 0. 0. 0. 0.]\n",
      " [0. 0. 0. 0. 0. 1. 0. 0. 0. 0. 0. 0. 0. 0. 0. 0. 0. 0.]\n",
      " [0. 0. 0. 0. 0. 0. 0. 0. 0. 0. 0. 0. 0. 0. 1. 0. 0. 0.]\n",
      " [1. 0. 0. 0. 0. 0. 0. 0. 0. 0. 0. 0. 0. 0. 0. 0. 0. 0.]\n",
      " [0. 0. 0. 0. 0. 0. 0. 0. 0. 0. 0. 0. 0. 0. 0. 1. 0. 0.]\n",
      " [0. 0. 0. 0. 1. 0. 0. 0. 0. 0. 0. 0. 0. 0. 0. 0. 0. 0.]\n",
      " [0. 0. 0. 0. 0. 0. 0. 0. 0. 0. 0. 0. 0. 0. 1. 0. 0. 0.]\n",
      " [0. 0. 0. 0. 0. 0. 0. 0. 0. 0. 1. 0. 0. 0. 0. 0. 0. 0.]\n",
      " [0. 0. 0. 0. 0. 0. 0. 1. 0. 0. 0. 0. 0. 0. 0. 0. 0. 0.]\n",
      " [0. 1. 0. 0. 0. 0. 0. 0. 0. 0. 0. 0. 0. 0. 0. 0. 0. 0.]\n",
      " [0. 0. 0. 0. 0. 0. 0. 0. 0. 0. 0. 0. 0. 0. 1. 0. 0. 0.]\n",
      " [0. 0. 0. 0. 0. 1. 0. 0. 0. 0. 0. 0. 0. 0. 0. 0. 0. 0.]\n",
      " [0. 0. 0. 0. 0. 0. 0. 0. 0. 0. 0. 0. 0. 0. 0. 1. 0. 0.]]\n"
     ]
    }
   ],
   "source": [
    "input_seq = one_hot_encode(input_seq, dict_size, seq_len, batch_size)\n",
    "print(f\"{input_seq.shape} (Batch Size, Sequence Length, One-Hot Encoding Size)\")\n",
    "print(\"One encoded sequence example:\")\n",
    "print(input_seq[0])"
   ]
  },
  {
   "cell_type": "code",
   "execution_count": 109,
   "metadata": {},
   "outputs": [],
   "source": [
    "# Cast to torch tensor.\n",
    "input_seq = torch.from_numpy(input_seq)\n",
    "target_seq = torch.Tensor(target_seq)"
   ]
  },
  {
   "cell_type": "code",
   "execution_count": 110,
   "metadata": {},
   "outputs": [
    {
     "name": "stdout",
     "output_type": "stream",
     "text": [
      "GPU not available, CPU used\n"
     ]
    }
   ],
   "source": [
    "# torch.cuda.is_available() checks and returns a Boolean True if a GPU is available, else it'll return False\n",
    "is_cuda = torch.cuda.is_available()\n",
    "\n",
    "# If we have a GPU available, we'll set our device to GPU. We'll use this device variable later in our code.\n",
    "if is_cuda:\n",
    "    device = torch.device(\"cuda\")\n",
    "    print(\"GPU is available\")\n",
    "else:\n",
    "    device = torch.device(\"cpu\")\n",
    "    print(\"GPU not available, CPU used\")"
   ]
  },
  {
   "cell_type": "code",
   "execution_count": 111,
   "metadata": {},
   "outputs": [],
   "source": [
    "class RNNModel(nn.Module):\n",
    "    def __init__(self, input_size, output_size, hidden_dim, n_layers):\n",
    "        super(RNNModel, self).__init__()\n",
    "\n",
    "        # Defining model parameters.\n",
    "        self.hidden_dim = hidden_dim\n",
    "        self.n_layers = n_layers\n",
    "\n",
    "        #Defining layer achitecture.\n",
    "        # RNN Layer.\n",
    "        self.rnn = nn.RNN(input_size, hidden_dim, n_layers, batch_first=True)   \n",
    "        # Fully connected layer that converts RNN output to desired output shape.\n",
    "        self.fc = nn.Linear(hidden_dim, output_size)\n",
    "    \n",
    "    def forward(self, x):\n",
    "        batch_size = x.size(0)\n",
    "        # zero-initialized hidden state.\n",
    "        hidden = torch.zeros(self.n_layers, batch_size, self.hidden_dim).to(device)\n",
    "        # Passing in the input and hidden state into the RNN layer and obtaining outputs.\n",
    "        out, hidden = self.rnn(x, hidden)\n",
    "        # Reshaping the outputs such that it can be fit into the fully connected layer.\n",
    "        out = out.contiguous().view(-1, self.hidden_dim)\n",
    "        out = self.fc(out)\n",
    "        return out, hidden\n"
   ]
  },
  {
   "cell_type": "code",
   "execution_count": 112,
   "metadata": {},
   "outputs": [],
   "source": [
    "# Instantiate the model with hyperparameters.\n",
    "model = RNNModel(input_size=dict_size, output_size=dict_size, hidden_dim=12, n_layers=1)\n",
    "# Set the model to the device that we defined earlier (default is CPU).\n",
    "model = model.to(device)\n",
    "\n",
    "# Define some other hyperparameters.\n",
    "n_epochs = 500\n",
    "lr=0.01\n",
    "cross_loss = nn.CrossEntropyLoss()\n",
    "optimizer = torch.optim.Adam(model.parameters(), lr=lr)"
   ]
  },
  {
   "cell_type": "code",
   "execution_count": 113,
   "metadata": {},
   "outputs": [
    {
     "name": "stdout",
     "output_type": "stream",
     "text": [
      "Epoch: 10/500............. Loss: 2.5097\n",
      "Epoch: 20/500............. Loss: 2.2044\n",
      "Epoch: 30/500............. Loss: 1.7965\n",
      "Epoch: 40/500............. Loss: 1.3074\n",
      "Epoch: 50/500............. Loss: 0.8871\n",
      "Epoch: 60/500............. Loss: 0.5864\n",
      "Epoch: 70/500............. Loss: 0.3921\n",
      "Epoch: 80/500............. Loss: 0.2719\n",
      "Epoch: 90/500............. Loss: 0.1980\n",
      "Epoch: 100/500............. Loss: 0.1508\n",
      "Epoch: 110/500............. Loss: 0.1207\n",
      "Epoch: 120/500............. Loss: 0.1013\n",
      "Epoch: 130/500............. Loss: 0.0882\n",
      "Epoch: 140/500............. Loss: 0.0789\n",
      "Epoch: 150/500............. Loss: 0.0720\n",
      "Epoch: 160/500............. Loss: 0.0668\n",
      "Epoch: 170/500............. Loss: 0.0626\n",
      "Epoch: 180/500............. Loss: 0.0593\n",
      "Epoch: 190/500............. Loss: 0.0566\n",
      "Epoch: 200/500............. Loss: 0.0543\n",
      "Epoch: 210/500............. Loss: 0.0524\n",
      "Epoch: 220/500............. Loss: 0.0508\n",
      "Epoch: 230/500............. Loss: 0.0494\n",
      "Epoch: 240/500............. Loss: 0.0481\n",
      "Epoch: 250/500............. Loss: 0.0470\n",
      "Epoch: 260/500............. Loss: 0.0461\n",
      "Epoch: 270/500............. Loss: 0.0452\n",
      "Epoch: 280/500............. Loss: 0.0444\n",
      "Epoch: 290/500............. Loss: 0.0438\n",
      "Epoch: 300/500............. Loss: 0.0431\n",
      "Epoch: 310/500............. Loss: 0.0426\n",
      "Epoch: 320/500............. Loss: 0.0420\n",
      "Epoch: 330/500............. Loss: 0.0416\n",
      "Epoch: 340/500............. Loss: 0.0411\n",
      "Epoch: 350/500............. Loss: 0.0407\n",
      "Epoch: 360/500............. Loss: 0.0404\n",
      "Epoch: 370/500............. Loss: 0.0400\n",
      "Epoch: 380/500............. Loss: 0.0397\n",
      "Epoch: 390/500............. Loss: 0.0394\n",
      "Epoch: 400/500............. Loss: 0.0391\n",
      "Epoch: 410/500............. Loss: 0.0389\n",
      "Epoch: 420/500............. Loss: 0.0387\n",
      "Epoch: 430/500............. Loss: 0.0384\n",
      "Epoch: 440/500............. Loss: 0.0382\n",
      "Epoch: 450/500............. Loss: 0.0380\n",
      "Epoch: 460/500............. Loss: 0.0378\n",
      "Epoch: 470/500............. Loss: 0.0377\n",
      "Epoch: 480/500............. Loss: 0.0375\n",
      "Epoch: 490/500............. Loss: 0.0373\n",
      "Epoch: 500/500............. Loss: 0.0372\n"
     ]
    }
   ],
   "source": [
    "# Training Run.\n",
    "input_seq = input_seq.to(device)\n",
    "for epoch in range(1, n_epochs + 1):\n",
    "    # Clears existing gradients from previous epoch\n",
    "    optimizer.zero_grad()\n",
    "    # Feed data to model.\n",
    "    output, hidden = model(input_seq)\n",
    "    # Compute loss.\n",
    "    loss = cross_loss(output, target_seq.view(-1).long())\n",
    "    # Backpropagation and calculate gradients.\n",
    "    loss.backward() \n",
    "    # Updates the weights accordingly.\n",
    "    optimizer.step() \n",
    "    \n",
    "    if epoch%10 == 0:\n",
    "        print('Epoch: {}/{}.............'.format(epoch, n_epochs), end=' ')\n",
    "        print(\"Loss: {:.4f}\".format(loss.item()))"
   ]
  },
  {
   "cell_type": "code",
   "execution_count": 114,
   "metadata": {},
   "outputs": [],
   "source": [
    "def predict(model, character):\n",
    "    # One-hot encoding our input to fit into the model.\n",
    "    character = np.array([[char2int[c] for c in character]])\n",
    "    character = one_hot_encode(character, dict_size, character.shape[1], 1)\n",
    "    character = torch.from_numpy(character)\n",
    "    # Feed to model.\n",
    "    out, hidden = model(character)\n",
    "    # Softmax activation to get propabilities.\n",
    "    prob = nn.functional.softmax(out[-1], dim=0).data\n",
    "    # Taking the class with the highest probability score from the output.\n",
    "    char_ind = torch.max(prob, dim=0)[1].item()\n",
    "\n",
    "    return int2char[char_ind], hidden"
   ]
  },
  {
   "cell_type": "code",
   "execution_count": 115,
   "metadata": {},
   "outputs": [],
   "source": [
    "def sample(model, out_len, start='hey'):\n",
    "    # eval mode (turn off optimization and gradient updates).\n",
    "    model.eval() \n",
    "    # All small caps.\n",
    "    start = start.lower()\n",
    "    # First off, separate the starting characters that were given.\n",
    "    chars = [ch for ch in start]\n",
    "    size = out_len - len(chars)\n",
    "    # Now pass in the previous characters and get a new one.\n",
    "    for ii in range(size):\n",
    "        char, h = predict(model, chars)\n",
    "        chars.append(char)\n",
    "\n",
    "    return ''.join(chars)"
   ]
  },
  {
   "cell_type": "code",
   "execution_count": 119,
   "metadata": {},
   "outputs": [
    {
     "data": {
      "text/plain": [
       "'nice a nice day'"
      ]
     },
     "execution_count": 119,
     "metadata": {},
     "output_type": "execute_result"
    }
   ],
   "source": [
    "sample(model, 15, 'nice')"
   ]
  }
 ],
 "metadata": {
  "kernelspec": {
   "display_name": "Python 3.9.13 ('.venv': venv)",
   "language": "python",
   "name": "python3"
  },
  "language_info": {
   "codemirror_mode": {
    "name": "ipython",
    "version": 3
   },
   "file_extension": ".py",
   "mimetype": "text/x-python",
   "name": "python",
   "nbconvert_exporter": "python",
   "pygments_lexer": "ipython3",
   "version": "3.9.13"
  },
  "orig_nbformat": 4,
  "vscode": {
   "interpreter": {
    "hash": "922f7fa9571fc739501daf7ce5fc5da8e27c4ce7a28dc2e6739277e5ca042023"
   }
  }
 },
 "nbformat": 4,
 "nbformat_minor": 2
}
