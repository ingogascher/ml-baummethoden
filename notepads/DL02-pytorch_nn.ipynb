{
 "cells": [
  {
   "cell_type": "markdown",
   "metadata": {
    "id": "8NWAZ8_8R0M8"
   },
   "source": [
    "# AI Engineer 2 - Einführung PyTorch\n",
    "## Aufgabe: Implementieren Sie Ihr erstes Neuronales Netz\n",
    "Wählen Sie einen beliebigen einfachen Datensatz (bspw. Iris-binary, Vorbereitungszeit auf Klausur o.ä.) und trainieren Sie ein mehrschichtiges Neuronales Netz mit PyTorch. Zeigen Sie grafisch auf, dass Ihr Modell konvergiert."
   ]
  },
  {
   "cell_type": "markdown",
   "metadata": {
    "id": "SGlzL5qoR0M_"
   },
   "source": [
    "### Import Libraries"
   ]
  },
  {
   "cell_type": "code",
   "execution_count": 1,
   "metadata": {
    "id": "bxoUuEDmR0NA"
   },
   "outputs": [],
   "source": [
    "from sklearn.model_selection import train_test_split\n",
    "import numpy as np\n",
    "import matplotlib.pyplot as plt\n",
    "from sklearn.datasets import load_iris\n",
    "from matplotlib import cm\n",
    "from sklearn import metrics\n",
    "\n",
    "import torch\n",
    "import torch.nn as nn\n",
    "import torch.nn.functional as F"
   ]
  },
  {
   "cell_type": "markdown",
   "metadata": {
    "id": "mqmV0RShR0NB"
   },
   "source": [
    "### Load data"
   ]
  },
  {
   "cell_type": "code",
   "execution_count": 2,
   "metadata": {
    "id": "5vJ0xb7aR0NB"
   },
   "outputs": [],
   "source": [
    "data = load_iris()"
   ]
  },
  {
   "cell_type": "markdown",
   "metadata": {
    "id": "12O4bL-0R0NB"
   },
   "source": [
    "### Split data into x and y and test and train sets"
   ]
  },
  {
   "cell_type": "code",
   "execution_count": null,
   "metadata": {
    "id": "91Xzv6k8R0NC"
   },
   "outputs": [
    {
     "name": "stdout",
     "output_type": "stream",
     "text": [
      "[[5.1 3.5]\n",
      " [4.9 3. ]\n",
      " [4.7 3.2]\n",
      " [4.6 3.1]\n",
      " [5.  3.6]\n",
      " [5.4 3.9]\n",
      " [4.6 3.4]\n",
      " [5.  3.4]\n",
      " [4.4 2.9]\n",
      " [4.9 3.1]\n",
      " [5.4 3.7]\n",
      " [4.8 3.4]\n",
      " [4.8 3. ]\n",
      " [4.3 3. ]\n",
      " [5.8 4. ]\n",
      " [5.7 4.4]\n",
      " [5.4 3.9]\n",
      " [5.1 3.5]\n",
      " [5.7 3.8]\n",
      " [5.1 3.8]\n",
      " [5.4 3.4]\n",
      " [5.1 3.7]\n",
      " [4.6 3.6]\n",
      " [5.1 3.3]\n",
      " [4.8 3.4]\n",
      " [5.  3. ]\n",
      " [5.  3.4]\n",
      " [5.2 3.5]\n",
      " [5.2 3.4]\n",
      " [4.7 3.2]\n",
      " [4.8 3.1]\n",
      " [5.4 3.4]\n",
      " [5.2 4.1]\n",
      " [5.5 4.2]\n",
      " [4.9 3.1]\n",
      " [5.  3.2]\n",
      " [5.5 3.5]\n",
      " [4.9 3.6]\n",
      " [4.4 3. ]\n",
      " [5.1 3.4]\n",
      " [5.  3.5]\n",
      " [4.5 2.3]\n",
      " [4.4 3.2]\n",
      " [5.  3.5]\n",
      " [5.1 3.8]\n",
      " [4.8 3. ]\n",
      " [5.1 3.8]\n",
      " [4.6 3.2]\n",
      " [5.3 3.7]\n",
      " [5.  3.3]\n",
      " [7.  3.2]\n",
      " [6.4 3.2]\n",
      " [6.9 3.1]\n",
      " [5.5 2.3]\n",
      " [6.5 2.8]\n",
      " [5.7 2.8]\n",
      " [6.3 3.3]\n",
      " [4.9 2.4]\n",
      " [6.6 2.9]\n",
      " [5.2 2.7]\n",
      " [5.  2. ]\n",
      " [5.9 3. ]\n",
      " [6.  2.2]\n",
      " [6.1 2.9]\n",
      " [5.6 2.9]\n",
      " [6.7 3.1]\n",
      " [5.6 3. ]\n",
      " [5.8 2.7]\n",
      " [6.2 2.2]\n",
      " [5.6 2.5]\n",
      " [5.9 3.2]\n",
      " [6.1 2.8]\n",
      " [6.3 2.5]\n",
      " [6.1 2.8]\n",
      " [6.4 2.9]\n",
      " [6.6 3. ]\n",
      " [6.8 2.8]\n",
      " [6.7 3. ]\n",
      " [6.  2.9]\n",
      " [5.7 2.6]\n",
      " [5.5 2.4]\n",
      " [5.5 2.4]\n",
      " [5.8 2.7]\n",
      " [6.  2.7]\n",
      " [5.4 3. ]\n",
      " [6.  3.4]\n",
      " [6.7 3.1]\n",
      " [6.3 2.3]\n",
      " [5.6 3. ]\n",
      " [5.5 2.5]\n",
      " [5.5 2.6]\n",
      " [6.1 3. ]\n",
      " [5.8 2.6]\n",
      " [5.  2.3]\n",
      " [5.6 2.7]\n",
      " [5.7 3. ]\n",
      " [5.7 2.9]\n",
      " [6.2 2.9]\n",
      " [5.1 2.5]\n",
      " [5.7 2.8]\n",
      " [6.3 3.3]\n",
      " [5.8 2.7]\n",
      " [7.1 3. ]\n",
      " [6.3 2.9]\n",
      " [6.5 3. ]\n",
      " [7.6 3. ]\n",
      " [4.9 2.5]\n",
      " [7.3 2.9]\n",
      " [6.7 2.5]\n",
      " [7.2 3.6]\n",
      " [6.5 3.2]\n",
      " [6.4 2.7]\n",
      " [6.8 3. ]\n",
      " [5.7 2.5]\n",
      " [5.8 2.8]\n",
      " [6.4 3.2]\n",
      " [6.5 3. ]\n",
      " [7.7 3.8]\n",
      " [7.7 2.6]\n",
      " [6.  2.2]\n",
      " [6.9 3.2]\n",
      " [5.6 2.8]\n",
      " [7.7 2.8]\n",
      " [6.3 2.7]\n",
      " [6.7 3.3]\n",
      " [7.2 3.2]\n",
      " [6.2 2.8]\n",
      " [6.1 3. ]\n",
      " [6.4 2.8]\n",
      " [7.2 3. ]\n",
      " [7.4 2.8]\n",
      " [7.9 3.8]\n",
      " [6.4 2.8]\n",
      " [6.3 2.8]\n",
      " [6.1 2.6]\n",
      " [7.7 3. ]\n",
      " [6.3 3.4]\n",
      " [6.4 3.1]\n",
      " [6.  3. ]\n",
      " [6.9 3.1]\n",
      " [6.7 3.1]\n",
      " [6.9 3.1]\n",
      " [5.8 2.7]\n",
      " [6.8 3.2]\n",
      " [6.7 3.3]\n",
      " [6.7 3. ]\n",
      " [6.3 2.5]\n",
      " [6.5 3. ]\n",
      " [6.2 3.4]\n",
      " [5.9 3. ]]\n"
     ]
    }
   ],
   "source": [
    "# Select only 2 dimensions.\n",
    "x = data[\"data\"][:, :2]\n",
    "# Binarize target.\n",
    "y = np.where(data[\"target\"] >= 1, 1, 0)\n",
    "x_train, x_test, y_train, y_test = train_test_split(\n",
    "    x, y, test_size=0.33, random_state=45)"
   ]
  },
  {
   "cell_type": "markdown",
   "metadata": {
    "id": "7h0JIK4_R0ND"
   },
   "source": [
    "### Define Neural Network architecrute using Pytorch library"
   ]
  },
  {
   "cell_type": "code",
   "execution_count": 4,
   "metadata": {
    "id": "zGd8FQD9R0ND"
   },
   "outputs": [],
   "source": [
    "class Net(nn.Module):\n",
    "\n",
    "\n",
    "    def __init__(self):\n",
    "        \"\"\"\n",
    "        Initialization of the neural network architecture\n",
    "        with a specified amount of layers and neurons.\n",
    "        Tipp: Sometimes it helps to use batch normalization layers\n",
    "        to standardize inputs for the next layer and thus\n",
    "        making training more stable and faster.\n",
    "        \"\"\"\n",
    "        super().__init__()\n",
    "        self.fc1 = nn.Linear(2, 8)\n",
    "        #self.b1 = nn.BatchNorm1d(8)\n",
    "        self.fc2 = nn.Linear(8, 4)\n",
    "        #self.b2 = nn.BatchNorm1d(4)\n",
    "        self.fc4 = nn.Linear(4, 1)\n",
    "\n",
    "\n",
    "    def forward(self, x):\n",
    "        \"\"\"\n",
    "        Feeding input x through the layers and activation functions (relu, sigmoid).\n",
    "        Returning output y after propagating through the whole architecture.\n",
    "        \"\"\"\n",
    "        y = F.relu(self.fc1(x))\n",
    "        y = F.relu(self.fc2(y))\n",
    "        y = F.sigmoid(self.fc4(y))\n",
    "        return y\n"
   ]
  },
  {
   "cell_type": "markdown",
   "metadata": {
    "id": "nAPrJONRR0NE"
   },
   "source": [
    "### Training a Neural Network"
   ]
  },
  {
   "cell_type": "code",
   "execution_count": 5,
   "metadata": {
    "id": "mirMTOu7R0NE",
    "outputId": "75ccbbe1-d9a7-4d4a-c744-6f97bf9d74ec"
   },
   "outputs": [
    {
     "data": {
      "image/png": "[encoded data removed]",
      "text/plain": [
       "<Figure size 800x600 with 1 Axes>"
      ]
     },
     "metadata": {},
     "output_type": "display_data"
    }
   ],
   "source": [
    "# Initialize NN model.\n",
    "model = Net()\n",
    "\n",
    "# Initialize loss function and optimizer with model parameters and learning rate.\n",
    "loss = nn.BCELoss()\n",
    "optimizer = torch.optim.Adam(model.parameters(), lr=0.009)\n",
    "\n",
    "# Initialize error list for later visualization.\n",
    "epoch_errors = []\n",
    "\n",
    "# Train the model in n epochs.\n",
    "for epoch in range(500):\n",
    "    # Set all gradients to zero since it is a new iteration and optimization round.\n",
    "    optimizer.zero_grad()\n",
    "    # Compute error on training data.\n",
    "    # Do some transformations on the data to get it in the right tensor shape for the model.\n",
    "    error = loss(model(torch.from_numpy(x_train).type(\n",
    "        torch.FloatTensor)), torch.from_numpy(y_train).unsqueeze(1).type(torch.FloatTensor))\n",
    "    # Store error for later visualization.\n",
    "    epoch_errors.append(error.item())\n",
    "    # Compute gradients for all the parameters.\n",
    "    error.backward()\n",
    "    # Update all parameters using the gradients and optimizer formula.\n",
    "    optimizer.step()\n",
    "\n",
    "# Plot error evolution over the epochs.\n",
    "plt.figure(figsize=(8, 6))\n",
    "plt.plot(epoch_errors, color=\"#1ACC94\")\n",
    "plt.title('Loss Entwicklung über Epochen')\n",
    "plt.xlabel('Epochen')\n",
    "plt.ylabel('Loss')\n",
    "plt.show()\n"
   ]
  },
  {
   "cell_type": "code",
   "execution_count": 6,
   "metadata": {
    "id": "DTkVSmnCR0NF"
   },
   "outputs": [],
   "source": [
    "def evaluation_measures(y_test, y_pred):\n",
    "    \"\"\"\n",
    "    Evaluate model predictions y_pred to the true labels y_test.\n",
    "\n",
    "    Parameters\n",
    "    ----------\n",
    "    y_test : list or ndarray or pd.series.\n",
    "        The data to process.\n",
    "    y_pred : list or np.array or pd.series.\n",
    "        The respective column's name.\n",
    "\n",
    "    Returns\n",
    "    -------\n",
    "    cr : dict.\n",
    "        classification report for the input.\n",
    "    fpr, tpr, roc_auc : tuple(int, int, int).\n",
    "        False-positive-rate, true-positive-rate and area-under-curve for input.\n",
    "        Needed to plot ROC curve.\n",
    "    cm : ndarray.\n",
    "        Confusion matrix for input.\n",
    "    \"\"\"\n",
    "    # Classification report.\n",
    "    cr = metrics.classification_report(y_test, y_pred)\n",
    "\n",
    "    # ROC curve.\n",
    "    fpr, tpr, threshold = metrics.roc_curve(y_test, y_pred)\n",
    "    roc_auc = metrics.auc(fpr, tpr)\n",
    "\n",
    "    # Confusion matrix.\n",
    "    cm = metrics.confusion_matrix(y_test, y_pred)\n",
    "\n",
    "    return cr, (fpr, tpr, roc_auc), cm\n",
    "\n",
    "\n",
    "def plot_roc(auc_tuple):\n",
    "    \"\"\"\n",
    "    Plots the ROC curve for input data.\n",
    "\n",
    "    Parameters\n",
    "    ----------\n",
    "    auc_tuple : tuple(int, int, int).\n",
    "        Includes fpr, tpr and auc (area-under-curve).\n",
    "    \"\"\"\n",
    "    fpr, tpr, roc_auc = auc_tuple\n",
    "    fig, ax = plt.subplots(figsize=(10, 5))\n",
    "    plt.title('Receiver Operating Characteristic')\n",
    "    plt.plot(fpr, tpr, 'b', label='AUC = %0.2f' % roc_auc)\n",
    "    plt.legend(loc='lower right')\n",
    "    plt.plot([0, 1], [0, 1], 'r--')\n",
    "    plt.xlabel('False Positive Rate')\n",
    "    plt.ylabel('True Positive Rate')\n",
    "    ax.spines['right'].set_visible(False)\n",
    "    ax.spines['top'].set_visible(False)\n",
    "    plt.show()\n",
    "\n",
    "\n",
    "def plot_cm(cm):\n",
    "    \"\"\"\n",
    "    Plots the confusion matrix for input data.\n",
    "\n",
    "    Parameters\n",
    "    ----------\n",
    "    cm : ndarray.\n",
    "        Includes TN, FP, FN and TP.\n",
    "    \"\"\"\n",
    "    tn, fp, fn, tp = cm.ravel()\n",
    "    disp = metrics.ConfusionMatrixDisplay(confusion_matrix=cm)\n",
    "    disp.plot(cmap=\"Reds\")\n",
    "    plt.show()"
   ]
  },
  {
   "cell_type": "code",
   "execution_count": 12,
   "metadata": {},
   "outputs": [
    {
     "name": "stdout",
     "output_type": "stream",
     "text": [
      "[0.00354172]\n"
     ]
    }
   ],
   "source": [
    "# predict a single value\n",
    "foo = np.array([4.9, 3.0])\n",
    "y_pred = model(torch.from_numpy(foo).type(\n",
    "    torch.FloatTensor)).detach().numpy()\n",
    "\n",
    "print(y_pred)\n"
   ]
  },
  {
   "cell_type": "code",
   "execution_count": 7,
   "metadata": {
    "id": "yfqfEWLwR0NG",
    "outputId": "2f18bab1-c6cf-453c-dc1e-8d076ea83594"
   },
   "outputs": [
    {
     "name": "stdout",
     "output_type": "stream",
     "text": [
      "              precision    recall  f1-score   support\n",
      "\n",
      "           0       1.00      1.00      1.00        19\n",
      "           1       1.00      1.00      1.00        31\n",
      "\n",
      "    accuracy                           1.00        50\n",
      "   macro avg       1.00      1.00      1.00        50\n",
      "weighted avg       1.00      1.00      1.00        50\n",
      "\n"
     ]
    },
    {
     "data": {
      "image/png": "[encoded data removed]",
      "text/plain": [
       "<Figure size 1000x500 with 1 Axes>"
      ]
     },
     "metadata": {},
     "output_type": "display_data"
    },
    {
     "data": {
      "image/png": "[encoded data removed]",
      "text/plain": [
       "<Figure size 640x480 with 2 Axes>"
      ]
     },
     "metadata": {},
     "output_type": "display_data"
    }
   ],
   "source": [
    "# Predict the testing set and copy true classes.\n",
    "y_pred = model(torch.from_numpy(x_test).type(\n",
    "    torch.FloatTensor)).detach().numpy()\n",
    "y_pred = y_pred.reshape(y_pred.size)\n",
    "y_true = np.copy(y_test)\n",
    "\n",
    "# Binarize output since it is a classification task.\n",
    "y_pred_binary = y_pred.round().astype(int)\n",
    "\n",
    "# Evaluate model using preditions.\n",
    "cr, roc, cm = evaluation_measures(y_test, y_pred_binary)\n",
    "print(cr)\n",
    "plot_roc(roc)\n",
    "plot_cm(cm)"
   ]
  }
 ],
 "metadata": {
  "colab": {
   "name": "02_pytorch_nn.ipynb",
   "provenance": []
  },
  "kernelspec": {
   "display_name": ".venv",
   "language": "python",
   "name": "python3"
  },
  "language_info": {
   "codemirror_mode": {
    "name": "ipython",
    "version": 3
   },
   "file_extension": ".py",
   "mimetype": "text/x-python",
   "name": "python",
   "nbconvert_exporter": "python",
   "pygments_lexer": "ipython3",
   "version": "3.9.20"
  },
  "orig_nbformat": 4
 },
 "nbformat": 4,
 "nbformat_minor": 0
}
